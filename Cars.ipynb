{
 "cells": [
  {
   "cell_type": "code",
   "execution_count": 1,
   "metadata": {
    "collapsed": false
   },
   "outputs": [
    {
     "data": {
      "text/html": [
       "<div>\n",
       "<table border=\"1\" class=\"dataframe\">\n",
       "  <thead>\n",
       "    <tr style=\"text-align: right;\">\n",
       "      <th></th>\n",
       "      <th>symboling</th>\n",
       "      <th>normalized_losses</th>\n",
       "      <th>make</th>\n",
       "      <th>fuel_type</th>\n",
       "      <th>aspiration</th>\n",
       "      <th>num_doors</th>\n",
       "      <th>body_style</th>\n",
       "      <th>drive_wheels</th>\n",
       "      <th>engine_location</th>\n",
       "      <th>wheel_base</th>\n",
       "      <th>...</th>\n",
       "      <th>engine_size</th>\n",
       "      <th>fuel_system</th>\n",
       "      <th>bore</th>\n",
       "      <th>stroke</th>\n",
       "      <th>compression_ratio</th>\n",
       "      <th>horsepower</th>\n",
       "      <th>peak_rpm</th>\n",
       "      <th>city_mpg</th>\n",
       "      <th>highway_mpg</th>\n",
       "      <th>price</th>\n",
       "    </tr>\n",
       "  </thead>\n",
       "  <tbody>\n",
       "    <tr>\n",
       "      <th>0</th>\n",
       "      <td>3</td>\n",
       "      <td>?</td>\n",
       "      <td>alfa-romero</td>\n",
       "      <td>gas</td>\n",
       "      <td>std</td>\n",
       "      <td>two</td>\n",
       "      <td>convertible</td>\n",
       "      <td>rwd</td>\n",
       "      <td>front</td>\n",
       "      <td>88.6</td>\n",
       "      <td>...</td>\n",
       "      <td>130</td>\n",
       "      <td>mpfi</td>\n",
       "      <td>3.47</td>\n",
       "      <td>2.68</td>\n",
       "      <td>9.0</td>\n",
       "      <td>111</td>\n",
       "      <td>5000</td>\n",
       "      <td>21</td>\n",
       "      <td>27</td>\n",
       "      <td>13495</td>\n",
       "    </tr>\n",
       "    <tr>\n",
       "      <th>1</th>\n",
       "      <td>3</td>\n",
       "      <td>?</td>\n",
       "      <td>alfa-romero</td>\n",
       "      <td>gas</td>\n",
       "      <td>std</td>\n",
       "      <td>two</td>\n",
       "      <td>convertible</td>\n",
       "      <td>rwd</td>\n",
       "      <td>front</td>\n",
       "      <td>88.6</td>\n",
       "      <td>...</td>\n",
       "      <td>130</td>\n",
       "      <td>mpfi</td>\n",
       "      <td>3.47</td>\n",
       "      <td>2.68</td>\n",
       "      <td>9.0</td>\n",
       "      <td>111</td>\n",
       "      <td>5000</td>\n",
       "      <td>21</td>\n",
       "      <td>27</td>\n",
       "      <td>16500</td>\n",
       "    </tr>\n",
       "    <tr>\n",
       "      <th>2</th>\n",
       "      <td>1</td>\n",
       "      <td>?</td>\n",
       "      <td>alfa-romero</td>\n",
       "      <td>gas</td>\n",
       "      <td>std</td>\n",
       "      <td>two</td>\n",
       "      <td>hatchback</td>\n",
       "      <td>rwd</td>\n",
       "      <td>front</td>\n",
       "      <td>94.5</td>\n",
       "      <td>...</td>\n",
       "      <td>152</td>\n",
       "      <td>mpfi</td>\n",
       "      <td>2.68</td>\n",
       "      <td>3.47</td>\n",
       "      <td>9.0</td>\n",
       "      <td>154</td>\n",
       "      <td>5000</td>\n",
       "      <td>19</td>\n",
       "      <td>26</td>\n",
       "      <td>16500</td>\n",
       "    </tr>\n",
       "    <tr>\n",
       "      <th>3</th>\n",
       "      <td>2</td>\n",
       "      <td>164</td>\n",
       "      <td>audi</td>\n",
       "      <td>gas</td>\n",
       "      <td>std</td>\n",
       "      <td>four</td>\n",
       "      <td>sedan</td>\n",
       "      <td>fwd</td>\n",
       "      <td>front</td>\n",
       "      <td>99.8</td>\n",
       "      <td>...</td>\n",
       "      <td>109</td>\n",
       "      <td>mpfi</td>\n",
       "      <td>3.19</td>\n",
       "      <td>3.40</td>\n",
       "      <td>10.0</td>\n",
       "      <td>102</td>\n",
       "      <td>5500</td>\n",
       "      <td>24</td>\n",
       "      <td>30</td>\n",
       "      <td>13950</td>\n",
       "    </tr>\n",
       "    <tr>\n",
       "      <th>4</th>\n",
       "      <td>2</td>\n",
       "      <td>164</td>\n",
       "      <td>audi</td>\n",
       "      <td>gas</td>\n",
       "      <td>std</td>\n",
       "      <td>four</td>\n",
       "      <td>sedan</td>\n",
       "      <td>4wd</td>\n",
       "      <td>front</td>\n",
       "      <td>99.4</td>\n",
       "      <td>...</td>\n",
       "      <td>136</td>\n",
       "      <td>mpfi</td>\n",
       "      <td>3.19</td>\n",
       "      <td>3.40</td>\n",
       "      <td>8.0</td>\n",
       "      <td>115</td>\n",
       "      <td>5500</td>\n",
       "      <td>18</td>\n",
       "      <td>22</td>\n",
       "      <td>17450</td>\n",
       "    </tr>\n",
       "  </tbody>\n",
       "</table>\n",
       "<p>5 rows × 26 columns</p>\n",
       "</div>"
      ],
      "text/plain": [
       "   symboling normalized_losses         make fuel_type aspiration num_doors  \\\n",
       "0          3                 ?  alfa-romero       gas        std       two   \n",
       "1          3                 ?  alfa-romero       gas        std       two   \n",
       "2          1                 ?  alfa-romero       gas        std       two   \n",
       "3          2               164         audi       gas        std      four   \n",
       "4          2               164         audi       gas        std      four   \n",
       "\n",
       "    body_style drive_wheels engine_location  wheel_base  ...    engine_size  \\\n",
       "0  convertible          rwd           front        88.6  ...            130   \n",
       "1  convertible          rwd           front        88.6  ...            130   \n",
       "2    hatchback          rwd           front        94.5  ...            152   \n",
       "3        sedan          fwd           front        99.8  ...            109   \n",
       "4        sedan          4wd           front        99.4  ...            136   \n",
       "\n",
       "   fuel_system  bore  stroke compression_ratio horsepower  peak_rpm city_mpg  \\\n",
       "0         mpfi  3.47    2.68               9.0        111      5000       21   \n",
       "1         mpfi  3.47    2.68               9.0        111      5000       21   \n",
       "2         mpfi  2.68    3.47               9.0        154      5000       19   \n",
       "3         mpfi  3.19    3.40              10.0        102      5500       24   \n",
       "4         mpfi  3.19    3.40               8.0        115      5500       18   \n",
       "\n",
       "  highway_mpg  price  \n",
       "0          27  13495  \n",
       "1          27  16500  \n",
       "2          26  16500  \n",
       "3          30  13950  \n",
       "4          22  17450  \n",
       "\n",
       "[5 rows x 26 columns]"
      ]
     },
     "execution_count": 1,
     "metadata": {},
     "output_type": "execute_result"
    }
   ],
   "source": [
    "import pandas as pd\n",
    "%matplotlib inline\n",
    "\n",
    "columns=['symboling','normalized_losses','make','fuel_type','aspiration','num_doors','body_style','drive_wheels','engine_location','wheel_base','length','width','height','curb_weight','engine_type','num_cylinders','engine_size','fuel_system','bore','stroke','compression_ratio','horsepower','peak_rpm','city_mpg','highway_mpg','price']\n",
    "cars=pd.read_csv('imports-85.data', header=None, names=columns)\n",
    "cars.head()"
   ]
  },
  {
   "cell_type": "markdown",
   "metadata": {},
   "source": [
    "Target column is price. Columns that we can use as features: symboling, normalized_losses (maybe not this one since it has missing data), num_doors (converting to integers), wheel_base, length, width, height, curb_weight, num_cylinders (convert to int), engine_size, bore, stroke, compression_ratio, horsepower, peak_rpm, city_mpg, highway_mpg. Now not all of these may be suitable as features. "
   ]
  },
  {
   "cell_type": "code",
   "execution_count": 2,
   "metadata": {
    "collapsed": false
   },
   "outputs": [
    {
     "data": {
      "text/plain": [
       "symboling            0\n",
       "normalized_losses    0\n",
       "make                 0\n",
       "fuel_type            0\n",
       "aspiration           0\n",
       "num_doors            2\n",
       "body_style           0\n",
       "drive_wheels         0\n",
       "engine_location      0\n",
       "wheel_base           0\n",
       "length               0\n",
       "width                0\n",
       "height               0\n",
       "curb_weight          0\n",
       "engine_type          0\n",
       "num_cylinders        0\n",
       "engine_size          0\n",
       "fuel_system          0\n",
       "bore                 4\n",
       "stroke               4\n",
       "compression_ratio    0\n",
       "horsepower           2\n",
       "peak_rpm             2\n",
       "city_mpg             0\n",
       "highway_mpg          0\n",
       "price                4\n",
       "dtype: int64"
      ]
     },
     "execution_count": 2,
     "metadata": {},
     "output_type": "execute_result"
    }
   ],
   "source": [
    "import numpy as np\n",
    "cars.replace('?', np.nan, inplace=True)\n",
    "cars['normalized_losses']=cars['normalized_losses'].astype('float')\n",
    "mean=cars['normalized_losses'].mean()\n",
    "cars['normalized_losses'].replace(np.nan, mean, inplace=True)\n",
    "\n",
    "'''\n",
    "def value_counter(series):\n",
    "    return cars[series].value_counts()\n",
    "\n",
    "for series in cars.columns:\n",
    "    value_counter(series)'''\n",
    "cars.isnull().sum()"
   ]
  },
  {
   "cell_type": "code",
   "execution_count": 3,
   "metadata": {
    "collapsed": false
   },
   "outputs": [
    {
     "name": "stderr",
     "output_type": "stream",
     "text": [
      "/dataquest/system/env/python3/lib/python3.4/site-packages/ipykernel/__main__.py:5: SettingWithCopyWarning: \n",
      "A value is trying to be set on a copy of a slice from a DataFrame.\n",
      "Try using .loc[row_indexer,col_indexer] = value instead\n",
      "\n",
      "See the caveats in the documentation: http://pandas.pydata.org/pandas-docs/stable/indexing.html#indexing-view-versus-copy\n",
      "/dataquest/system/env/python3/lib/python3.4/site-packages/ipykernel/__main__.py:6: SettingWithCopyWarning: \n",
      "A value is trying to be set on a copy of a slice from a DataFrame.\n",
      "Try using .loc[row_indexer,col_indexer] = value instead\n",
      "\n",
      "See the caveats in the documentation: http://pandas.pydata.org/pandas-docs/stable/indexing.html#indexing-view-versus-copy\n"
     ]
    }
   ],
   "source": [
    "cars.dropna(subset=['num_doors'], inplace=True)\n",
    "\n",
    "\n",
    "small=cars[cars['engine_size']<120]\n",
    "small['bore']=small['bore'].astype(float)\n",
    "small['stroke']=small['stroke'].astype(float)\n",
    "cars['stroke'].replace(np.nan, small['stroke'].mean(), inplace=True)\n",
    "cars['bore'].replace(np.nan, small['bore'].mean(), inplace=True)\n",
    "null_data = cars[cars.isnull().any(axis=1)]\n",
    "null_data\n",
    "cars=cars.dropna()"
   ]
  },
  {
   "cell_type": "code",
   "execution_count": 4,
   "metadata": {
    "collapsed": false
   },
   "outputs": [
    {
     "name": "stdout",
     "output_type": "stream",
     "text": [
      "<class 'pandas.core.frame.DataFrame'>\n",
      "Int64Index: 197 entries, 0 to 204\n",
      "Data columns (total 26 columns):\n",
      "symboling            197 non-null int64\n",
      "normalized_losses    197 non-null float64\n",
      "make                 197 non-null object\n",
      "fuel_type            197 non-null object\n",
      "aspiration           197 non-null object\n",
      "num_doors            197 non-null object\n",
      "body_style           197 non-null object\n",
      "drive_wheels         197 non-null object\n",
      "engine_location      197 non-null object\n",
      "wheel_base           197 non-null float64\n",
      "length               197 non-null float64\n",
      "width                197 non-null float64\n",
      "height               197 non-null float64\n",
      "curb_weight          197 non-null int64\n",
      "engine_type          197 non-null object\n",
      "num_cylinders        197 non-null object\n",
      "engine_size          197 non-null int64\n",
      "fuel_system          197 non-null object\n",
      "bore                 197 non-null object\n",
      "stroke               197 non-null object\n",
      "compression_ratio    197 non-null float64\n",
      "horsepower           197 non-null object\n",
      "peak_rpm             197 non-null object\n",
      "city_mpg             197 non-null int64\n",
      "highway_mpg          197 non-null int64\n",
      "price                197 non-null object\n",
      "dtypes: float64(6), int64(5), object(15)\n",
      "memory usage: 41.6+ KB\n"
     ]
    }
   ],
   "source": [
    "cars.info()"
   ]
  },
  {
   "cell_type": "code",
   "execution_count": 5,
   "metadata": {
    "collapsed": false
   },
   "outputs": [
    {
     "name": "stdout",
     "output_type": "stream",
     "text": [
      "<class 'pandas.core.frame.DataFrame'>\n",
      "Int64Index: 197 entries, 0 to 204\n",
      "Data columns (total 26 columns):\n",
      "symboling            197 non-null int64\n",
      "normalized_losses    197 non-null float64\n",
      "make                 197 non-null object\n",
      "fuel_type            197 non-null object\n",
      "aspiration           197 non-null object\n",
      "num_doors            197 non-null object\n",
      "body_style           197 non-null object\n",
      "drive_wheels         197 non-null object\n",
      "engine_location      197 non-null object\n",
      "wheel_base           197 non-null float64\n",
      "length               197 non-null float64\n",
      "width                197 non-null float64\n",
      "height               197 non-null float64\n",
      "curb_weight          197 non-null int64\n",
      "engine_type          197 non-null object\n",
      "num_cylinders        197 non-null object\n",
      "engine_size          197 non-null int64\n",
      "fuel_system          197 non-null object\n",
      "bore                 197 non-null float64\n",
      "stroke               197 non-null float64\n",
      "compression_ratio    197 non-null float64\n",
      "horsepower           197 non-null int64\n",
      "peak_rpm             197 non-null int64\n",
      "city_mpg             197 non-null int64\n",
      "highway_mpg          197 non-null int64\n",
      "price                197 non-null int64\n",
      "dtypes: float64(8), int64(8), object(10)\n",
      "memory usage: 41.6+ KB\n"
     ]
    }
   ],
   "source": [
    "cars['bore']=cars['bore'].astype(float)\n",
    "cars['stroke']=cars['stroke'].astype(float)\n",
    "cars['horsepower']=cars['horsepower'].astype(int)\n",
    "cars['peak_rpm']=cars['peak_rpm'].astype(int)\n",
    "cars['price']=cars['price'].astype(int)\n",
    "cars.info()"
   ]
  },
  {
   "cell_type": "markdown",
   "metadata": {},
   "source": [
    "Converted all necessary columns to numeric"
   ]
  },
  {
   "cell_type": "code",
   "execution_count": 6,
   "metadata": {
    "collapsed": false
   },
   "outputs": [
    {
     "data": {
      "text/html": [
       "<div>\n",
       "<table border=\"1\" class=\"dataframe\">\n",
       "  <thead>\n",
       "    <tr style=\"text-align: right;\">\n",
       "      <th></th>\n",
       "      <th>symboling</th>\n",
       "      <th>normalized_losses</th>\n",
       "      <th>wheel_base</th>\n",
       "      <th>length</th>\n",
       "      <th>width</th>\n",
       "      <th>height</th>\n",
       "      <th>curb_weight</th>\n",
       "      <th>engine_size</th>\n",
       "      <th>bore</th>\n",
       "      <th>stroke</th>\n",
       "      <th>compression_ratio</th>\n",
       "      <th>horsepower</th>\n",
       "      <th>peak_rpm</th>\n",
       "      <th>city_mpg</th>\n",
       "      <th>highway_mpg</th>\n",
       "      <th>price</th>\n",
       "    </tr>\n",
       "  </thead>\n",
       "  <tbody>\n",
       "    <tr>\n",
       "      <th>0</th>\n",
       "      <td>1.0</td>\n",
       "      <td>0.298429</td>\n",
       "      <td>0.058309</td>\n",
       "      <td>0.413433</td>\n",
       "      <td>0.324786</td>\n",
       "      <td>0.083333</td>\n",
       "      <td>0.411171</td>\n",
       "      <td>0.260377</td>\n",
       "      <td>0.664286</td>\n",
       "      <td>0.290476</td>\n",
       "      <td>0.1250</td>\n",
       "      <td>0.294393</td>\n",
       "      <td>0.346939</td>\n",
       "      <td>0.222222</td>\n",
       "      <td>0.289474</td>\n",
       "      <td>0.207959</td>\n",
       "    </tr>\n",
       "    <tr>\n",
       "      <th>1</th>\n",
       "      <td>1.0</td>\n",
       "      <td>0.298429</td>\n",
       "      <td>0.058309</td>\n",
       "      <td>0.413433</td>\n",
       "      <td>0.324786</td>\n",
       "      <td>0.083333</td>\n",
       "      <td>0.411171</td>\n",
       "      <td>0.260377</td>\n",
       "      <td>0.664286</td>\n",
       "      <td>0.290476</td>\n",
       "      <td>0.1250</td>\n",
       "      <td>0.294393</td>\n",
       "      <td>0.346939</td>\n",
       "      <td>0.222222</td>\n",
       "      <td>0.289474</td>\n",
       "      <td>0.282558</td>\n",
       "    </tr>\n",
       "    <tr>\n",
       "      <th>2</th>\n",
       "      <td>0.6</td>\n",
       "      <td>0.298429</td>\n",
       "      <td>0.230321</td>\n",
       "      <td>0.449254</td>\n",
       "      <td>0.444444</td>\n",
       "      <td>0.383333</td>\n",
       "      <td>0.517843</td>\n",
       "      <td>0.343396</td>\n",
       "      <td>0.100000</td>\n",
       "      <td>0.666667</td>\n",
       "      <td>0.1250</td>\n",
       "      <td>0.495327</td>\n",
       "      <td>0.346939</td>\n",
       "      <td>0.166667</td>\n",
       "      <td>0.263158</td>\n",
       "      <td>0.282558</td>\n",
       "    </tr>\n",
       "    <tr>\n",
       "      <th>3</th>\n",
       "      <td>0.8</td>\n",
       "      <td>0.518325</td>\n",
       "      <td>0.384840</td>\n",
       "      <td>0.529851</td>\n",
       "      <td>0.504274</td>\n",
       "      <td>0.541667</td>\n",
       "      <td>0.329325</td>\n",
       "      <td>0.181132</td>\n",
       "      <td>0.464286</td>\n",
       "      <td>0.633333</td>\n",
       "      <td>0.1875</td>\n",
       "      <td>0.252336</td>\n",
       "      <td>0.551020</td>\n",
       "      <td>0.305556</td>\n",
       "      <td>0.368421</td>\n",
       "      <td>0.219254</td>\n",
       "    </tr>\n",
       "    <tr>\n",
       "      <th>4</th>\n",
       "      <td>0.8</td>\n",
       "      <td>0.518325</td>\n",
       "      <td>0.373178</td>\n",
       "      <td>0.529851</td>\n",
       "      <td>0.521368</td>\n",
       "      <td>0.541667</td>\n",
       "      <td>0.518231</td>\n",
       "      <td>0.283019</td>\n",
       "      <td>0.464286</td>\n",
       "      <td>0.633333</td>\n",
       "      <td>0.0625</td>\n",
       "      <td>0.313084</td>\n",
       "      <td>0.551020</td>\n",
       "      <td>0.138889</td>\n",
       "      <td>0.157895</td>\n",
       "      <td>0.306142</td>\n",
       "    </tr>\n",
       "  </tbody>\n",
       "</table>\n",
       "</div>"
      ],
      "text/plain": [
       "   symboling  normalized_losses  wheel_base    length     width    height  \\\n",
       "0        1.0           0.298429    0.058309  0.413433  0.324786  0.083333   \n",
       "1        1.0           0.298429    0.058309  0.413433  0.324786  0.083333   \n",
       "2        0.6           0.298429    0.230321  0.449254  0.444444  0.383333   \n",
       "3        0.8           0.518325    0.384840  0.529851  0.504274  0.541667   \n",
       "4        0.8           0.518325    0.373178  0.529851  0.521368  0.541667   \n",
       "\n",
       "   curb_weight  engine_size      bore    stroke  compression_ratio  \\\n",
       "0     0.411171     0.260377  0.664286  0.290476             0.1250   \n",
       "1     0.411171     0.260377  0.664286  0.290476             0.1250   \n",
       "2     0.517843     0.343396  0.100000  0.666667             0.1250   \n",
       "3     0.329325     0.181132  0.464286  0.633333             0.1875   \n",
       "4     0.518231     0.283019  0.464286  0.633333             0.0625   \n",
       "\n",
       "   horsepower  peak_rpm  city_mpg  highway_mpg     price  \n",
       "0    0.294393  0.346939  0.222222     0.289474  0.207959  \n",
       "1    0.294393  0.346939  0.222222     0.289474  0.282558  \n",
       "2    0.495327  0.346939  0.166667     0.263158  0.282558  \n",
       "3    0.252336  0.551020  0.305556     0.368421  0.219254  \n",
       "4    0.313084  0.551020  0.138889     0.157895  0.306142  "
      ]
     },
     "execution_count": 6,
     "metadata": {},
     "output_type": "execute_result"
    }
   ],
   "source": [
    "'''['symboling', 'normalized_losses', 'wheel_base', 'length', '''''\n",
    "columns_numeric=list()\n",
    "for column in list(cars.columns):\n",
    "    if cars[column].dtype!='object':\n",
    "        columns_numeric.append(column)\n",
    "columns_numeric\n",
    "\n",
    "cars[columns_numeric]=(cars[columns_numeric]-cars[columns_numeric].min())/(cars[columns_numeric].max()-cars[columns_numeric].min())\n",
    "cars[columns_numeric].head()"
   ]
  },
  {
   "cell_type": "code",
   "execution_count": 7,
   "metadata": {
    "collapsed": false
   },
   "outputs": [
    {
     "data": {
      "text/plain": [
       "'curb_weight'"
      ]
     },
     "execution_count": 7,
     "metadata": {},
     "output_type": "execute_result"
    }
   ],
   "source": [
    "from sklearn.neighbors import KNeighborsRegressor\n",
    "from sklearn.metrics import mean_squared_error\n",
    "\n",
    "def knn_train_test(training,target,df):\n",
    "    train_df=df.iloc[0:int(len(df)*.75)]\n",
    "    test_df=df.iloc[int(len(df)*.75):len(df)]\n",
    "    knn=KNeighborsRegressor()\n",
    "    knn.fit(train_df[[training]], train_df[target])\n",
    "    predictions=knn.predict(test_df[[training]])\n",
    "    mse=mean_squared_error(test_df[target], predictions)\n",
    "    rmse=mse**(1/2)\n",
    "    return rmse\n",
    "\n",
    "rmses=dict()\n",
    "columns_numeric.remove('price')\n",
    "for column in columns_numeric:\n",
    "    rmses[column]=knn_train_test(column, 'price', cars)\n",
    "min(rmses, key=rmses.get)\n",
    "    "
   ]
  },
  {
   "cell_type": "code",
   "execution_count": 8,
   "metadata": {
    "collapsed": false
   },
   "outputs": [],
   "source": [
    "def knn_train_test(training,target,df,k):\n",
    "    train_df=df.iloc[0:int(len(df)*.75)]\n",
    "    test_df=df.iloc[int(len(df)*.75):len(df)]\n",
    "    knn=KNeighborsRegressor(n_neighbors=k)\n",
    "    knn.fit(train_df[[training]], train_df[target])\n",
    "    predictions=knn.predict(test_df[[training]])\n",
    "    mse=mean_squared_error(test_df[target], predictions)\n",
    "    rmse=mse**(1/2)\n",
    "    return rmse"
   ]
  },
  {
   "cell_type": "code",
   "execution_count": 9,
   "metadata": {
    "collapsed": false
   },
   "outputs": [
    {
     "data": {
      "text/plain": [
       "{'bore  k equals 1': 0.28269263410227702,\n",
       " 'bore  k equals 3': 0.2424003884854504,\n",
       " 'bore  k equals 5': 0.21148722699401293,\n",
       " 'bore  k equals 7': 0.19480284635505482,\n",
       " 'bore  k equals 9': 0.16253503574990588,\n",
       " 'city_mpg  k equals 1': 0.11272226611824102,\n",
       " 'city_mpg  k equals 3': 0.099145516217973184,\n",
       " 'city_mpg  k equals 5': 0.090568914962874114,\n",
       " 'city_mpg  k equals 7': 0.088238532738654243,\n",
       " 'city_mpg  k equals 9': 0.079337913566299934,\n",
       " 'compression_ratio  k equals 1': 0.17330435982451683,\n",
       " 'compression_ratio  k equals 3': 0.15245746252674569,\n",
       " 'compression_ratio  k equals 5': 0.1680076551292515,\n",
       " 'compression_ratio  k equals 7': 0.17403452473032704,\n",
       " 'compression_ratio  k equals 9': 0.14914535945234048,\n",
       " 'curb_weight  k equals 1': 0.093200497919210243,\n",
       " 'curb_weight  k equals 3': 0.06314681407534993,\n",
       " 'curb_weight  k equals 5': 0.06240155403604776,\n",
       " 'curb_weight  k equals 7': 0.067886426461119864,\n",
       " 'curb_weight  k equals 9': 0.066188721317248747,\n",
       " 'engine_size  k equals 1': 0.12549983097009104,\n",
       " 'engine_size  k equals 3': 0.10382266573912419,\n",
       " 'engine_size  k equals 5': 0.086057791257658348,\n",
       " 'engine_size  k equals 7': 0.078614647724415412,\n",
       " 'engine_size  k equals 9': 0.078940747136212241,\n",
       " 'height  k equals 1': 0.35785885537732243,\n",
       " 'height  k equals 3': 0.24089004139141301,\n",
       " 'height  k equals 5': 0.15801574539052451,\n",
       " 'height  k equals 7': 0.15033095590272819,\n",
       " 'height  k equals 9': 0.14009640681079877,\n",
       " 'highway_mpg  k equals 1': 0.094603896675964791,\n",
       " 'highway_mpg  k equals 3': 0.096796880485754092,\n",
       " 'highway_mpg  k equals 5': 0.071712000124226419,\n",
       " 'highway_mpg  k equals 7': 0.065140810001483057,\n",
       " 'highway_mpg  k equals 9': 0.063178521395276646,\n",
       " 'horsepower  k equals 1': 0.12595613974514488,\n",
       " 'horsepower  k equals 3': 0.10716485333833492,\n",
       " 'horsepower  k equals 5': 0.09909079566629532,\n",
       " 'horsepower  k equals 7': 0.095625863063022454,\n",
       " 'horsepower  k equals 9': 0.088637988236116572,\n",
       " 'length  k equals 1': 0.16016533045164366,\n",
       " 'length  k equals 3': 0.15183159730860468,\n",
       " 'length  k equals 5': 0.17397014156971405,\n",
       " 'length  k equals 7': 0.15287332484117019,\n",
       " 'length  k equals 9': 0.12531275211744919,\n",
       " 'normalized_losses  k equals 1': 0.24904866923751229,\n",
       " 'normalized_losses  k equals 3': 0.28075881094399019,\n",
       " 'normalized_losses  k equals 5': 0.24758869125978947,\n",
       " 'normalized_losses  k equals 7': 0.23621145303663174,\n",
       " 'normalized_losses  k equals 9': 0.19674531647725532,\n",
       " 'peak_rpm  k equals 1': 0.36778892203927516,\n",
       " 'peak_rpm  k equals 3': 0.21884819771255468,\n",
       " 'peak_rpm  k equals 5': 0.17596221741247833,\n",
       " 'peak_rpm  k equals 7': 0.1692473757647168,\n",
       " 'peak_rpm  k equals 9': 0.17051538418794768,\n",
       " 'stroke  k equals 1': 0.29947082888995769,\n",
       " 'stroke  k equals 3': 0.25218485489957349,\n",
       " 'stroke  k equals 5': 0.19640346606007952,\n",
       " 'stroke  k equals 7': 0.16373688264958117,\n",
       " 'stroke  k equals 9': 0.16972038372840051,\n",
       " 'symboling  k equals 1': 0.13431329775114043,\n",
       " 'symboling  k equals 3': 0.1151478564963213,\n",
       " 'symboling  k equals 5': 0.18345457974791615,\n",
       " 'symboling  k equals 7': 0.17929626821469324,\n",
       " 'symboling  k equals 9': 0.16388402231269292,\n",
       " 'wheel_base  k equals 1': 0.084926603094993169,\n",
       " 'wheel_base  k equals 3': 0.12998993111463716,\n",
       " 'wheel_base  k equals 5': 0.14030101049502916,\n",
       " 'wheel_base  k equals 7': 0.13425580686444216,\n",
       " 'wheel_base  k equals 9': 0.11951793975221024,\n",
       " 'width  k equals 1': 0.16088460204359076,\n",
       " 'width  k equals 3': 0.12062828668448143,\n",
       " 'width  k equals 5': 0.096260253872079954,\n",
       " 'width  k equals 7': 0.083948610593567174,\n",
       " 'width  k equals 9': 0.084754610880970582}"
      ]
     },
     "execution_count": 9,
     "metadata": {},
     "output_type": "execute_result"
    }
   ],
   "source": [
    "rmses_ks=dict()\n",
    "for column in columns_numeric:\n",
    "    for x in [1,3,5,7,9]:\n",
    "        rmses_ks[column+'  k equals '+str(x)]=knn_train_test(column, 'price', cars, x)\n",
    "rmses_ks    "
   ]
  },
  {
   "cell_type": "code",
   "execution_count": 10,
   "metadata": {
    "collapsed": false
   },
   "outputs": [
    {
     "data": {
      "image/png": "[encoded data removed]",
      "text/plain": [
       "<matplotlib.figure.Figure at 0x7f6af83664a8>"
      ]
     },
     "metadata": {},
     "output_type": "display_data"
    }
   ],
   "source": [
    "from matplotlib import pyplot as plt\n",
    "import re\n",
    "\n",
    "for key in rmses_ks:\n",
    "    if 'equals 1' in key:\n",
    "        plt.scatter(1, rmses_ks[key])\n",
    "    if 'equals 3' in key:\n",
    "        plt.scatter(3, rmses_ks[key])\n",
    "    if 'equals 5' in key:\n",
    "        plt.scatter(5, rmses_ks[key])\n",
    "    if 'equals 7' in key:\n",
    "        plt.scatter(7, rmses_ks[key])\n",
    "    if 'equals 9' in key:\n",
    "        plt.scatter(9, rmses_ks[key])\n",
    "plt.title('RMSEs across K values')\n",
    "plt.xlabel('k')\n",
    "plt.ylabel('RMSE')\n",
    "plt.show()"
   ]
  },
  {
   "cell_type": "markdown",
   "metadata": {},
   "source": [
    "For this data, a higher K-value means a more accurate prediction measured from RMSE. "
   ]
  },
  {
   "cell_type": "code",
   "execution_count": 11,
   "metadata": {
    "collapsed": false
   },
   "outputs": [],
   "source": [
    "def knn_train_test(training,target,df):\n",
    "    train_df=df.iloc[0:int(len(df)*.75)]\n",
    "    test_df=df.iloc[int(len(df)*.75):len(df)]\n",
    "    knn=KNeighborsRegressor()\n",
    "    knn.fit(train_df[training], train_df[target])\n",
    "    predictions=knn.predict(test_df[training])\n",
    "    mse=mean_squared_error(test_df[target], predictions)\n",
    "    rmse=mse**(1/2)\n",
    "    return rmse"
   ]
  },
  {
   "cell_type": "code",
   "execution_count": 12,
   "metadata": {
    "collapsed": false
   },
   "outputs": [
    {
     "data": {
      "text/plain": [
       "[('curb_weight', 0.06240155403604776),\n",
       " ('highway_mpg', 0.071712000124226419),\n",
       " ('engine_size', 0.086057791257658348),\n",
       " ('city_mpg', 0.090568914962874114),\n",
       " ('width', 0.096260253872079954),\n",
       " ('horsepower', 0.09909079566629532),\n",
       " ('wheel_base', 0.14030101049502916),\n",
       " ('height', 0.15801574539052451),\n",
       " ('compression_ratio', 0.1680076551292515),\n",
       " ('length', 0.17397014156971405),\n",
       " ('peak_rpm', 0.17596221741247833),\n",
       " ('symboling', 0.18345457974791615),\n",
       " ('stroke', 0.19640346606007952),\n",
       " ('bore', 0.21148722699401293),\n",
       " ('normalized_losses', 0.24758869125978947)]"
      ]
     },
     "execution_count": 12,
     "metadata": {},
     "output_type": "execute_result"
    }
   ],
   "source": [
    "import operator\n",
    "\n",
    "sorted_rmses = sorted(rmses.items(), key=operator.itemgetter(1))\n",
    "sorted_rmses"
   ]
  },
  {
   "cell_type": "code",
   "execution_count": 13,
   "metadata": {
    "collapsed": false
   },
   "outputs": [
    {
     "data": {
      "text/plain": [
       "0.079174056605375631"
      ]
     },
     "execution_count": 13,
     "metadata": {},
     "output_type": "execute_result"
    }
   ],
   "source": [
    "knn_train_test(['curb_weight', 'highway_mpg'],'price', cars)"
   ]
  },
  {
   "cell_type": "code",
   "execution_count": 14,
   "metadata": {
    "collapsed": false
   },
   "outputs": [
    {
     "data": {
      "text/plain": [
       "0.073017156348069198"
      ]
     },
     "execution_count": 14,
     "metadata": {},
     "output_type": "execute_result"
    }
   ],
   "source": [
    "knn_train_test(['curb_weight', 'highway_mpg', 'engine_size'],'price', cars)"
   ]
  },
  {
   "cell_type": "code",
   "execution_count": 15,
   "metadata": {
    "collapsed": false
   },
   "outputs": [
    {
     "data": {
      "text/plain": [
       "0.061681589424781837"
      ]
     },
     "execution_count": 15,
     "metadata": {},
     "output_type": "execute_result"
    }
   ],
   "source": [
    "knn_train_test(['curb_weight', 'highway_mpg', 'engine_size', 'city_mpg'],'price', cars)"
   ]
  },
  {
   "cell_type": "code",
   "execution_count": 16,
   "metadata": {
    "collapsed": false
   },
   "outputs": [
    {
     "data": {
      "text/plain": [
       "0.057084661098346062"
      ]
     },
     "execution_count": 16,
     "metadata": {},
     "output_type": "execute_result"
    }
   ],
   "source": [
    "knn_train_test(['curb_weight', 'highway_mpg', 'engine_size', 'city_mpg', 'width'],'price', cars)"
   ]
  },
  {
   "cell_type": "code",
   "execution_count": 17,
   "metadata": {
    "collapsed": true
   },
   "outputs": [],
   "source": [
    "def knn_train_test(training,target,df,k):\n",
    "    train_df=df.iloc[0:int(len(df)*.75)]\n",
    "    test_df=df.iloc[int(len(df)*.75):len(df)]\n",
    "    knn=KNeighborsRegressor(n_neighbors=k)\n",
    "    knn.fit(train_df[training], train_df[target])\n",
    "    predictions=knn.predict(test_df[training])\n",
    "    mse=mean_squared_error(test_df[target], predictions)\n",
    "    rmse=mse**(1/2)\n",
    "    return rmse"
   ]
  },
  {
   "cell_type": "code",
   "execution_count": 31,
   "metadata": {
    "collapsed": false
   },
   "outputs": [
    {
     "data": {
      "image/png": "[encoded data removed]",
      "text/plain": [
       "<matplotlib.figure.Figure at 0x7f6ab44f27f0>"
      ]
     },
     "metadata": {},
     "output_type": "display_data"
    },
    {
     "data": {
      "image/png": "[encoded data removed]",
      "text/plain": [
       "<matplotlib.figure.Figure at 0x7f6ab4546da0>"
      ]
     },
     "metadata": {},
     "output_type": "display_data"
    },
    {
     "data": {
      "image/png": "[encoded data removed]",
      "text/plain": [
       "<matplotlib.figure.Figure at 0x7f6aa3afdb38>"
      ]
     },
     "metadata": {},
     "output_type": "display_data"
    },
    {
     "name": "stdout",
     "output_type": "stream",
     "text": [
      "23\n",
      "23\n"
     ]
    },
    {
     "data": {
      "text/plain": [
       "16"
      ]
     },
     "execution_count": 31,
     "metadata": {},
     "output_type": "execute_result"
    }
   ],
   "source": [
    "rmses_3features=dict()\n",
    "for k in range(1,26):\n",
    "    rmses_3features[k]=knn_train_test(['curb_weight', 'highway_mpg', 'engine_size'],'price', cars, k)\n",
    "plt.scatter(list(rmses_3features.keys()),list(rmses_3features.values()))\n",
    "plt.show()\n",
    "\n",
    "rmses_4features=dict()\n",
    "for k in range(1,26):\n",
    "    rmses_4features[k]=knn_train_test(['curb_weight', 'highway_mpg', 'engine_size', 'city_mpg'],'price', cars, k)\n",
    "plt.scatter(list(rmses_4features.keys()),list(rmses_4features.values()))\n",
    "plt.show()\n",
    "\n",
    "rmses_5features=dict()\n",
    "for k in range(1,26):\n",
    "    rmses_5features[k]=knn_train_test(['curb_weight', 'highway_mpg', 'engine_size', 'city_mpg', 'width'],'price', cars, k)\n",
    "plt.scatter(list(rmses_5features.keys()),list(rmses_5features.values()))\n",
    "plt.show()\n",
    "\n",
    "print(min(rmses_3features, key=rmses_3features.get))\n",
    "print(min(rmses_4features, key=rmses_4features.get))\n",
    "min(rmses_5features, key=rmses_5features.get)"
   ]
  },
  {
   "cell_type": "markdown",
   "metadata": {},
   "source": [
    "23 is the optimal k value for models with three and four features, but 16 is optimal for the five feature model. The complexity of the five feature model may interfere with higher k values being more accurate after a certain point."
   ]
  }
 ],
 "metadata": {
  "kernelspec": {
   "display_name": "Python 3",
   "language": "python",
   "name": "python3"
  },
  "language_info": {
   "codemirror_mode": {
    "name": "ipython",
    "version": 3
   },
   "file_extension": ".py",
   "mimetype": "text/x-python",
   "name": "python",
   "nbconvert_exporter": "python",
   "pygments_lexer": "ipython3",
   "version": "3.4.3"
  }
 },
 "nbformat": 4,
 "nbformat_minor": 2
}
